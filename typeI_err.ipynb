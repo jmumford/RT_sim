import sys
sys.path.insert(1, '/Users/jeanettemumford/Dropbox/Research/Projects/RT_sims/Code')
from functions import *
%matplotlib inline
