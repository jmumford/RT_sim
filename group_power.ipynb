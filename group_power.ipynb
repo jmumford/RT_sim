{
 "cells": [
  {
   "cell_type": "code",
   "execution_count": 1,
   "metadata": {},
   "outputs": [
    {
     "name": "stderr",
     "output_type": "stream",
     "text": [
      "/Users/jeanettemumford/.pyenv/versions/3.8.5/lib/python3.8/site-packages/nilearn/glm/__init__.py:55: FutureWarning: The nilearn.glm module is experimental. It may change in any future release of Nilearn.\n",
      "  warn('The nilearn.glm module is experimental. '\n"
     ]
    }
   ],
   "source": [
    "from functions import group_power_range_btwn_sd, power_plot_group, est_win_sub_mod_sd, calc_group_eff_size\n",
    "import numpy as np\n",
    "import matplotlib.pyplot as plt\n"
   ]
  },
  {
   "cell_type": "code",
   "execution_count": 2,
   "metadata": {},
   "outputs": [],
   "source": [
    "figure_directory = '/Users/jeanettemumford/Dropbox/Research/Projects/RT_sims/Figures'\n",
    "display_plots = True\n",
    "\n",
    "nsub = 30\n",
    "n_trials = 30\n",
    "scan_length = 225\n",
    "repetition_time = 1\n",
    "mu_grinband_shift = 638\n",
    "inv_lambda_grinband_shift = 699\n",
    "sigma_grinband_shift = 103\n",
    "mu_expnorm = mu_grinband_shift\n",
    "lam_expnorm = 1 / inv_lambda_grinband_shift\n",
    "sigma_expnorm = sigma_grinband_shift\n",
    "max_rt = 8000\n",
    "min_rt = 50\n",
    "event_duration = .5  \n",
    "center_rt=True\n",
    "hp_filter = True\n",
    "ISI_min = 3\n",
    "ISI_max = 6\n",
    "nsim_sd_est = 100\n",
    "nsim_power = 1000\n",
    "\n",
    "\n",
    "beta = {'dv_scales_yes': 3, 'dv_scales_no': 15}\n",
    "win_sub_noise_sd = {'dv_scales_yes': 3, 'dv_scales_no': .5}\n",
    "\n",
    "win_sub_mod_sd = est_win_sub_mod_sd(n_trials, scan_length, \n",
    "              repetition_time, mu_expnorm,\n",
    "              lam_expnorm, sigma_expnorm, max_rt, \n",
    "              min_rt, event_duration, ISI_min, ISI_max, center_rt,\n",
    "              hp_filter, nsim_sd_est)\n",
    "\n",
    "btwn_sub_noise_sd_vec = {'dv_scales_yes': np.array([0, 3, 6, 7, 15, 20]),\n",
    "                         'dv_scales_no': np.array([0, 20, 40, 50, 80, 110])}\n",
    "all_sd_params = {'win_sub_noise_sd': win_sub_noise_sd,\n",
    "                 'win_sub_mod_sd': win_sub_mod_sd,\n",
    "                 'btwn_noise_sd_vec': btwn_sub_noise_sd_vec}\n",
    "\n"
   ]
  },
  {
   "cell_type": "code",
   "execution_count": 3,
   "metadata": {},
   "outputs": [
    {
     "name": "stdout",
     "output_type": "stream",
     "text": [
      "{'dv_scales_yes': {'total_within_sd_ratio': array([ 1.        ,  1.89584061,  3.37295811,  3.888964  ,  8.11512724,\n",
      "       10.78416866]), 'cohens_d': array([1.61065564, 0.84957334, 0.4775202 , 0.4141606 , 0.19847571,\n",
      "       0.14935371])}, 'dv_scales_no': {'total_within_sd_ratio': array([ 1.        ,  2.35514911,  4.38028645,  5.42374832,  8.58764446,\n",
      "       11.77023798]), 'cohens_d': array([1.59922923, 0.67903523, 0.36509695, 0.29485683, 0.18622443,\n",
      "       0.13587059])}}\n"
     ]
    }
   ],
   "source": [
    "eff_sizes = calc_group_eff_size(all_sd_params, beta)\n",
    "print(eff_sizes)"
   ]
  },
  {
   "cell_type": "code",
   "execution_count": 4,
   "metadata": {},
   "outputs": [],
   "source": [
    "output_forced_choice = group_power_range_btwn_sd(n_trials, scan_length, repetition_time, \n",
    "              mu_expnorm, lam_expnorm, sigma_expnorm, max_rt, \n",
    "              min_rt, event_duration, ISI_min, ISI_max, all_sd_params, \n",
    "              nsub, nsim_power, center_rt, beta, hp_filter, figure_directory, display_plots)"
   ]
  },
  {
   "cell_type": "code",
   "execution_count": null,
   "metadata": {},
   "outputs": [],
   "source": [
    "power_plot_group(output_forced_choice, figure_directory, \n",
    "                     zoom=False, show_rt_mod=False, display_plots)"
   ]
  },
  {
   "cell_type": "code",
   "execution_count": null,
   "metadata": {},
   "outputs": [],
   "source": [
    "power_plot_group(output_forced_choice, figure_directory, \n",
    "                     zoom=False, show_rt_mod=True, display_plots)"
   ]
  },
  {
   "cell_type": "code",
   "execution_count": null,
   "metadata": {},
   "outputs": [],
   "source": [
    "#Stroop settings\n",
    "mu_expnorm = 530\n",
    "lam_expnorm = 1 / 160\n",
    "sigma_expnorm = 77"
   ]
  },
  {
   "cell_type": "code",
   "execution_count": null,
   "metadata": {},
   "outputs": [],
   "source": [
    "beta = {'dv_scales_yes': 1.7, 'dv_scales_no': 8}\n",
    "win_sub_noise_sd = {'dv_scales_yes': 1.25, 'dv_scales_no': .5}\n",
    "win_sub_mod_sd = est_win_sub_mod_sd(n_trials, scan_length, \n",
    "              repetition_time, mu_expnorm,\n",
    "              lam_expnorm, sigma_expnorm, max_rt, \n",
    "              min_rt, event_duration, ISI_min, ISI_max, center_rt,\n",
    "              hp_filter, nsim_sd_est)\n",
    "btwn_sub_noise_sd_vec = {'dv_scales_yes': np.array([3.5]),\n",
    "                         'dv_scales_no': np.array([16])}\n",
    "all_sd_params = {'win_sub_noise_sd': win_sub_noise_sd,\n",
    "                 'win_sub_mod_sd': win_sub_mod_sd,\n",
    "                 'btwn_noise_sd_vec': btwn_sub_noise_sd_vec}"
   ]
  },
  {
   "cell_type": "code",
   "execution_count": null,
   "metadata": {},
   "outputs": [],
   "source": [
    "eff_sizes = calc_group_eff_size(all_sd_params, beta)\n",
    "print(eff_sizes)"
   ]
  },
  {
   "cell_type": "code",
   "execution_count": null,
   "metadata": {},
   "outputs": [],
   "source": [
    "nsub = 30\n",
    "print(f'Results with {nsub} subjects')\n",
    "output_stroop = group_power_range_btwn_sd(n_trials, scan_length, repetition_time, \n",
    "              mu_expnorm, lam_expnorm, sigma_expnorm, max_rt, \n",
    "              min_rt, event_duration, ISI_min, ISI_max, all_sd_params, \n",
    "              nsub, nsim_power, center_rt, beta, hp_filter, figure_directory, display_plots)"
   ]
  },
  {
   "cell_type": "code",
   "execution_count": null,
   "metadata": {},
   "outputs": [],
   "source": [
    "nsub = 50\n",
    "print(f'Results with {nsub} subjects')\n",
    "output_stroop = group_power_range_btwn_sd(n_trials, scan_length, repetition_time, \n",
    "              mu_expnorm, lam_expnorm, sigma_expnorm, max_rt, \n",
    "              min_rt, event_duration, ISI_min, ISI_max, all_sd_params, \n",
    "              nsub, nsim_power, center_rt, beta, hp_filter, figure_directory, display_plots)"
   ]
  }
 ],
 "metadata": {
  "interpreter": {
   "hash": "c00d23e2ea6cb5f075c99cb9345e5e838210bbdac0ea863e00707a54769d3bf2"
  },
  "kernelspec": {
   "display_name": "Python 3.9.5 64-bit (conda)",
   "language": "python",
   "name": "python3"
  },
  "language_info": {
   "codemirror_mode": {
    "name": "ipython",
    "version": 3
   },
   "file_extension": ".py",
   "mimetype": "text/x-python",
   "name": "python",
   "nbconvert_exporter": "python",
   "pygments_lexer": "ipython3",
   "version": "3.8.5"
  },
  "orig_nbformat": 4
 },
 "nbformat": 4,
 "nbformat_minor": 2
}
