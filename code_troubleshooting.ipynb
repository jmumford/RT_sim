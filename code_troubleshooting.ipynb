{
 "cells": [
  {
   "cell_type": "code",
   "execution_count": 1,
   "metadata": {},
   "outputs": [
    {
     "name": "stderr",
     "output_type": "stream",
     "text": [
      "/usr/local/lib/python3.9/site-packages/nilearn/datasets/__init__.py:93: FutureWarning: Fetchers from the nilearn.datasets module will be updated in version 0.9 to return python strings instead of bytes and Pandas dataframes instead of Numpy arrays.\n",
      "  warn(\"Fetchers from the nilearn.datasets module will be \"\n",
      "/usr/local/lib/python3.9/site-packages/nilearn/glm/__init__.py:55: FutureWarning: The nilearn.glm module is experimental. It may change in any future release of Nilearn.\n",
      "  warn('The nilearn.glm module is experimental. '\n"
     ]
    }
   ],
   "source": [
    "import sys\n",
    "sys.path.insert(1, \n",
    "       '/Users/jeanettemumford/Dropbox/Research/Projects/RT_sims/Code')\n",
    "import scipy.stats\n",
    "import matplotlib.pyplot as plt\n",
    "import numpy as np\n",
    "from functions import *\n",
    "from scipy.stats import gamma, exponnorm\n",
    "import time \n",
    "from nilearn.glm.first_level.design_matrix import _cosine_drift\n"
   ]
  },
  {
   "cell_type": "code",
   "execution_count": null,
   "metadata": {},
   "outputs": [],
   "source": [
    "rt_grinband_shift = gamma.rvs(a=1.7, loc=.5, scale=.49, size=10000)\n",
    "shape_grinband_shift, mu_grinband_shift, sigma_grinband_shift =\\\n",
    "     exponnorm.fit(rt_grinband_shift*1000)\n",
    "inv_lambda_grinband_shift = np.multiply(sigma_grinband_shift,\n",
    "                                        shape_grinband_shift)\n",
    "n_trials = 30\n",
    "scan_length = 225\n",
    "repetition_time = 1\n",
    "\n",
    "mu_expnorm = mu_grinband_shift\n",
    "lam_expnorm = 1 / inv_lambda_grinband_shift\n",
    "sigma_expnorm = sigma_grinband_shift\n",
    "\n",
    "max_rt = 8000\n",
    "min_rt = 50\n",
    "event_duration = .5\n",
    "beta_scales_yes = 5\n",
    "beta_scales_no = 30\n",
    "nsim = 100\n",
    "center_rt = True\n",
    "\n",
    "win_sub_noise_sd_range_scales_yes = [1.2, 1.75,  3, 4, 10]\n",
    "win_sub_noise_sd_range_scales_no = [.25,  .35, .5,  .75, 3]\n",
    "\n",
    "nsim_pow = 5000\n",
    "ISI_min_max_vec = [(1, 3), (2, 5), (3, 6), (4, 7)]\n",
    "\n",
    "mu_expnorm = mu_grinband_shift\n",
    "lam_expnorm = 1 / inv_lambda_grinband_shift\n",
    "sigma_expnorm = sigma_grinband_shift\n",
    "\n",
    "hp_filter = True\n",
    "\n"
   ]
  },
  {
   "cell_type": "code",
   "execution_count": null,
   "metadata": {},
   "outputs": [],
   "source": [
    "shape_expnorm = 1 / (sigma_expnorm * lam_expnorm)\n",
    "subject_specific_mu_expnorm = exponnorm.rvs(shape_expnorm, mu_expnorm,\n",
    "                                            sigma_expnorm, 1) - \\\n",
    "                                            1 / lam_expnorm\n",
    "sim_num_trials = 0\n",
    "while sim_num_trials < n_trials:\n",
    "    rt_trials_twice_what_needed = exponnorm.rvs(shape_expnorm,\n",
    "                                            subject_specific_mu_expnorm,\n",
    "                                            sigma_expnorm, n_trials * 2) \n",
    "    rt_trials_filtered = rt_trials_twice_what_needed[\n",
    "        np.where((rt_trials_twice_what_needed < max_rt) &\n",
    "                (rt_trials_twice_what_needed > min_rt))]\n",
    "    sim_num_trials = rt_trials_filtered.shape[0]\n",
    "rt_trials = rt_trials_filtered[:n_trials] / 1000\n",
    "rt_trial_mean_s = np.mean(rt_trials)\n",
    "ISI = np.random.uniform(low=ISI_min, high=ISI_max, size=n_trials - 1)\n",
    "onsets = np.cumsum(np.append([5], rt_trials[0:(n_trials-1)]+ISI))\n",
    "frame_times = np.arange(0, scan_length*repetition_time, repetition_time)\n",
    "if center_rt:\n",
    "    amplitudes = {'modulated': (rt_trials - rt_trial_mean_s),\n",
    "                    'unmodulated': np.ones(onsets.shape)}\n",
    "else:\n",
    "    amplitudes = {'modulated': rt_trials,\n",
    "                    'unmodulated': np.ones(onsets.shape)}\n",
    "\n",
    "durations = {'fixed_zero': np.zeros(onsets.shape),\n",
    "                'fixed_event_duration': np.zeros(onsets.shape) +\n",
    "                event_duration,\n",
    "                'fixed_mean_rt': np.zeros(onsets.shape) + \n",
    "            rt_trial_mean_s,\n",
    "                'rt': rt_trials}"
   ]
  },
  {
   "cell_type": "code",
   "execution_count": null,
   "metadata": {},
   "outputs": [],
   "source": [
    "# Does sim_fit_sub die if I run it by itself?\n",
    "# Trying to determine if it is this function or what I do with the \n",
    "# output of this function in calc_win_sub_pow_range\n",
    "\n",
    "nsim_check = 200000\n",
    "ISI_min = 3\n",
    "ISI_max = 6\n",
    "sd_ind = 1\n",
    "start_time = time.time()\n",
    "for i in range(nsim_check):\n",
    "    if i%1000 == 0:\n",
    "        print(i)\n",
    "        print(start_time - time.time())\n",
    "        start_time = time.time()\n",
    "        \n",
    "    regressors = {key: {key2: {} for key2 in amplitudes} for key in durations}\n",
    "\n",
    "    for duration_type, duration in durations.items():\n",
    "        for modulation_type, amplitude in amplitudes.items():\n",
    "            onsets_3col = make_3column_onsets(onsets, duration, amplitude)\n",
    "            regressors[duration_type][modulation_type], _ = \\\n",
    "                      hemodynamic_models.compute_regressor(\n",
    "                      onsets_3col, 'spm', frame_times, oversampling=10)"
   ]
  },
  {
   "cell_type": "code",
   "execution_count": null,
   "metadata": {},
   "outputs": [],
   "source": [
    "\n",
    "output_unmod_beta_power_grin_hp_yes, output_rtmod_beta_power_grin_hp_yes = \\\n",
    "       calc_win_sub_pow_range(n_trials, scan_length, repetition_time,\n",
    "                              mu_expnorm, lam_expnorm, sigma_expnorm,\n",
    "                              max_rt, min_rt, event_duration, ISI_min_max_vec,\n",
    "                              win_sub_noise_sd_range_scales_yes,\n",
    "                              win_sub_noise_sd_range_scales_no, center_rt,\n",
    "                              beta_scales_yes, beta_scales_no, hp_filter,\n",
    "                              nsim_pow)"
   ]
  },
  {
   "cell_type": "code",
   "execution_count": null,
   "metadata": {},
   "outputs": [],
   "source": [
    "output_unmod_beta_power_grin_hp_yes, output_rtmod_beta_power_grin_hp_yes = \\\n",
    "       calc_win_sub_pow_range2(n_trials, scan_length, repetition_time,\n",
    "                              mu_expnorm, lam_expnorm, sigma_expnorm,\n",
    "                              max_rt, min_rt, event_duration, ISI_min_max_vec,\n",
    "                              win_sub_noise_sd_range_scales_yes,\n",
    "                              win_sub_noise_sd_range_scales_no, center_rt,\n",
    "                              beta_scales_yes, beta_scales_no, hp_filter,\n",
    "                              nsim_pow)"
   ]
  }
 ],
 "metadata": {
  "interpreter": {
   "hash": "246587e1fdc6e60fb33961caa15aa8a0ab4d7826c1ab7b280fc279646c76797e"
  },
  "kernelspec": {
   "display_name": "Python 3.8.3 64-bit ('base': conda)",
   "language": "python",
   "name": "python3"
  },
  "language_info": {
   "codemirror_mode": {
    "name": "ipython",
    "version": 3
   },
   "file_extension": ".py",
   "mimetype": "text/x-python",
   "name": "python",
   "nbconvert_exporter": "python",
   "pygments_lexer": "ipython3",
   "version": "3.9.7"
  },
  "orig_nbformat": 4
 },
 "nbformat": 4,
 "nbformat_minor": 2
}
