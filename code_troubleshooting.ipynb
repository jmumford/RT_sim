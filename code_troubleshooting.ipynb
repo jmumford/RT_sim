{
 "cells": [
  {
   "cell_type": "code",
   "execution_count": 1,
   "metadata": {},
   "outputs": [
    {
     "name": "stderr",
     "output_type": "stream",
     "text": [
      "/usr/local/lib/python3.9/site-packages/nilearn/datasets/__init__.py:93: FutureWarning: Fetchers from the nilearn.datasets module will be updated in version 0.9 to return python strings instead of bytes and Pandas dataframes instead of Numpy arrays.\n",
      "  warn(\"Fetchers from the nilearn.datasets module will be \"\n",
      "/usr/local/lib/python3.9/site-packages/nilearn/glm/__init__.py:55: FutureWarning: The nilearn.glm module is experimental. It may change in any future release of Nilearn.\n",
      "  warn('The nilearn.glm module is experimental. '\n"
     ]
    }
   ],
   "source": [
    "import sys\n",
    "sys.path.insert(1, \n",
    "       '/Users/jeanettemumford/Dropbox/Research/Projects/RT_sims/Code')\n",
    "import scipy.stats\n",
    "import matplotlib.pyplot as plt\n",
    "import numpy as np\n",
    "from functions import *\n",
    "from scipy.stats import gamma, exponnorm\n",
    "import time \n",
    "from nilearn.glm.first_level.design_matrix import _cosine_drift\n",
    "import pingouin as pg\n"
   ]
  },
  {
   "cell_type": "code",
   "execution_count": 2,
   "metadata": {},
   "outputs": [],
   "source": [
    "rt_grinband_shift = gamma.rvs(a=1.7, loc=.5, scale=.49, size=10000)\n",
    "shape_grinband_shift, mu_grinband_shift, sigma_grinband_shift =\\\n",
    "     exponnorm.fit(rt_grinband_shift*1000)\n",
    "inv_lambda_grinband_shift = np.multiply(sigma_grinband_shift,\n",
    "                                        shape_grinband_shift)\n",
    "n_trials = 30\n",
    "scan_length = 225\n",
    "repetition_time = 1\n",
    "\n",
    "mu_expnorm = mu_grinband_shift\n",
    "lam_expnorm = 1 / inv_lambda_grinband_shift\n",
    "sigma_expnorm = sigma_grinband_shift\n",
    "\n",
    "max_rt = 8000\n",
    "min_rt = 50\n",
    "event_duration = .5\n",
    "beta_scales_yes = 5\n",
    "beta_scales_no = 30\n",
    "nsim = 100\n",
    "center_rt = True\n",
    "\n",
    "win_sub_noise_sd_range_scales_yes = [1.2, 1.75,  3, 4, 10]\n",
    "win_sub_noise_sd_range_scales_no = [.25,  .35, .5,  .75, 3]\n",
    "\n",
    "nsim_pow = 5000\n",
    "ISI_min_max_vec = [(1, 3), (2, 5), (3, 6), (4, 7)]\n",
    "\n",
    "mu_expnorm = mu_grinband_shift\n",
    "lam_expnorm = 1 / inv_lambda_grinband_shift\n",
    "sigma_expnorm = sigma_grinband_shift\n",
    "\n",
    "hp_filter = True\n",
    "\n"
   ]
  },
  {
   "cell_type": "code",
   "execution_count": 5,
   "metadata": {},
   "outputs": [
    {
     "name": "stdout",
     "output_type": "stream",
     "text": [
      "0\n",
      "-0.0002980232238769531\n",
      "1000\n",
      "-6.177099943161011\n",
      "2000\n",
      "-6.087846755981445\n",
      "3000\n",
      "-6.667705059051514\n",
      "4000\n",
      "-6.4280688762664795\n",
      "5000\n",
      "-6.0895490646362305\n",
      "6000\n",
      "-6.052913188934326\n",
      "7000\n",
      "-6.046411037445068\n",
      "8000\n",
      "-6.071538925170898\n",
      "9000\n",
      "-6.058850049972534\n",
      "10000\n",
      "-6.086825132369995\n",
      "11000\n",
      "-6.0852367877960205\n",
      "12000\n",
      "-6.078080177307129\n",
      "13000\n",
      "-6.063715219497681\n",
      "14000\n",
      "-6.080492973327637\n",
      "15000\n",
      "-6.097443103790283\n",
      "16000\n",
      "-6.0523457527160645\n",
      "17000\n",
      "-6.301776170730591\n",
      "18000\n",
      "-6.225239992141724\n",
      "19000\n",
      "-5.860189914703369\n",
      "20000\n",
      "-6.153019905090332\n",
      "21000\n",
      "-6.908407926559448\n",
      "22000\n",
      "-5.999134302139282\n",
      "23000\n",
      "-6.354040861129761\n"
     ]
    },
    {
     "ename": "KeyboardInterrupt",
     "evalue": "",
     "output_type": "error",
     "traceback": [
      "\u001b[0;31m---------------------------------------------------------------------------\u001b[0m",
      "\u001b[0;31mKeyboardInterrupt\u001b[0m                         Traceback (most recent call last)",
      "\u001b[0;32m/var/folders/y4/qn1yzt191kb4h4vwfbmgvt340000gn/T/ipykernel_37161/1904135181.py\u001b[0m in \u001b[0;36m<module>\u001b[0;34m\u001b[0m\n\u001b[1;32m     13\u001b[0m         \u001b[0mprint\u001b[0m\u001b[0;34m(\u001b[0m\u001b[0mstart_time\u001b[0m \u001b[0;34m-\u001b[0m \u001b[0mtime\u001b[0m\u001b[0;34m.\u001b[0m\u001b[0mtime\u001b[0m\u001b[0;34m(\u001b[0m\u001b[0;34m)\u001b[0m\u001b[0;34m)\u001b[0m\u001b[0;34m\u001b[0m\u001b[0;34m\u001b[0m\u001b[0m\n\u001b[1;32m     14\u001b[0m         \u001b[0mstart_time\u001b[0m \u001b[0;34m=\u001b[0m \u001b[0mtime\u001b[0m\u001b[0;34m.\u001b[0m\u001b[0mtime\u001b[0m\u001b[0;34m(\u001b[0m\u001b[0;34m)\u001b[0m\u001b[0;34m\u001b[0m\u001b[0;34m\u001b[0m\u001b[0m\n\u001b[0;32m---> 15\u001b[0;31m     regressors, _ = make_regressors_one_trial_type(n_trials, scan_length, \n\u001b[0m\u001b[1;32m     16\u001b[0m                                    \u001b[0mrepetition_time\u001b[0m\u001b[0;34m,\u001b[0m \u001b[0mmu_expnorm\u001b[0m\u001b[0;34m,\u001b[0m\u001b[0;34m\u001b[0m\u001b[0;34m\u001b[0m\u001b[0m\n\u001b[1;32m     17\u001b[0m                                    \u001b[0mlam_expnorm\u001b[0m\u001b[0;34m,\u001b[0m \u001b[0msigma_expnorm\u001b[0m\u001b[0;34m,\u001b[0m\u001b[0;34m\u001b[0m\u001b[0;34m\u001b[0m\u001b[0m\n",
      "\u001b[0;32m~/Dropbox/Research/Projects/RT_sims/Code/functions.py\u001b[0m in \u001b[0;36mmake_regressors_one_trial_type\u001b[0;34m(n_trials, scan_length, repetition_time, mu_expnorm, lam_expnorm, sigma_expnorm, max_rt, min_rt, event_duration, ISI_min, ISI_max, center_rt)\u001b[0m\n\u001b[1;32m     91\u001b[0m                                                 sigma_expnorm, n_trials * 2) \n\u001b[1;32m     92\u001b[0m         rt_trials_filtered = rt_trials_twice_what_needed[\n\u001b[0;32m---> 93\u001b[0;31m             np.where((rt_trials_twice_what_needed < max_rt) &\n\u001b[0m\u001b[1;32m     94\u001b[0m                  (rt_trials_twice_what_needed > min_rt))]\n\u001b[1;32m     95\u001b[0m         \u001b[0msim_num_trials\u001b[0m \u001b[0;34m=\u001b[0m \u001b[0mrt_trials_filtered\u001b[0m\u001b[0;34m.\u001b[0m\u001b[0mshape\u001b[0m\u001b[0;34m[\u001b[0m\u001b[0;36m0\u001b[0m\u001b[0;34m]\u001b[0m\u001b[0;34m\u001b[0m\u001b[0;34m\u001b[0m\u001b[0m\n",
      "\u001b[0;32m<__array_function__ internals>\u001b[0m in \u001b[0;36mwhere\u001b[0;34m(*args, **kwargs)\u001b[0m\n",
      "\u001b[0;32m/usr/local/lib/python3.9/site-packages/numpy/core/multiarray.py\u001b[0m in \u001b[0;36mwhere\u001b[0;34m(condition, x, y)\u001b[0m\n\u001b[1;32m    339\u001b[0m \u001b[0;34m\u001b[0m\u001b[0m\n\u001b[1;32m    340\u001b[0m \u001b[0;34m\u001b[0m\u001b[0m\n\u001b[0;32m--> 341\u001b[0;31m \u001b[0;34m@\u001b[0m\u001b[0marray_function_from_c_func_and_dispatcher\u001b[0m\u001b[0;34m(\u001b[0m\u001b[0m_multiarray_umath\u001b[0m\u001b[0;34m.\u001b[0m\u001b[0mwhere\u001b[0m\u001b[0;34m)\u001b[0m\u001b[0;34m\u001b[0m\u001b[0;34m\u001b[0m\u001b[0m\n\u001b[0m\u001b[1;32m    342\u001b[0m \u001b[0;32mdef\u001b[0m \u001b[0mwhere\u001b[0m\u001b[0;34m(\u001b[0m\u001b[0mcondition\u001b[0m\u001b[0;34m,\u001b[0m \u001b[0mx\u001b[0m\u001b[0;34m=\u001b[0m\u001b[0;32mNone\u001b[0m\u001b[0;34m,\u001b[0m \u001b[0my\u001b[0m\u001b[0;34m=\u001b[0m\u001b[0;32mNone\u001b[0m\u001b[0;34m)\u001b[0m\u001b[0;34m:\u001b[0m\u001b[0;34m\u001b[0m\u001b[0;34m\u001b[0m\u001b[0m\n\u001b[1;32m    343\u001b[0m     \"\"\"\n",
      "\u001b[0;31mKeyboardInterrupt\u001b[0m: "
     ]
    }
   ],
   "source": [
    "# Does sim_fit_sub die if I run it by itself?\n",
    "# Trying to determine if it is this function or what I do with the \n",
    "# output of this function in calc_win_sub_pow_range\n",
    "\n",
    "nsim_check = 100000\n",
    "ISI_min = 3\n",
    "ISI_max = 6\n",
    "sd_ind = 1\n",
    "start_time = time.time()\n",
    "for i in range(nsim_check):\n",
    "    if i%1000 == 0:\n",
    "        print(i)\n",
    "        print(start_time - time.time())\n",
    "        start_time = time.time()\n",
    "    regressors, _ = make_regressors_one_trial_type(n_trials, scan_length, \n",
    "                                   repetition_time, mu_expnorm, \n",
    "                                   lam_expnorm, sigma_expnorm,\n",
    "                                   max_rt, min_rt, event_duration, ISI_min, \n",
    "                                   ISI_max, center_rt)\n",
    "    #models = make_design_matrices(regressors)"
   ]
  },
  {
   "cell_type": "code",
   "execution_count": null,
   "metadata": {},
   "outputs": [],
   "source": [
    "\n",
    "output_unmod_beta_power_grin_hp_yes, output_rtmod_beta_power_grin_hp_yes = \\\n",
    "       calc_win_sub_pow_range(n_trials, scan_length, repetition_time,\n",
    "                              mu_expnorm, lam_expnorm, sigma_expnorm,\n",
    "                              max_rt, min_rt, event_duration, ISI_min_max_vec,\n",
    "                              win_sub_noise_sd_range_scales_yes,\n",
    "                              win_sub_noise_sd_range_scales_no, center_rt,\n",
    "                              beta_scales_yes, beta_scales_no, hp_filter,\n",
    "                              nsim_pow)"
   ]
  },
  {
   "cell_type": "code",
   "execution_count": null,
   "metadata": {},
   "outputs": [],
   "source": [
    "output_unmod_beta_power_grin_hp_yes, output_rtmod_beta_power_grin_hp_yes = \\\n",
    "       calc_win_sub_pow_range2(n_trials, scan_length, repetition_time,\n",
    "                              mu_expnorm, lam_expnorm, sigma_expnorm,\n",
    "                              max_rt, min_rt, event_duration, ISI_min_max_vec,\n",
    "                              win_sub_noise_sd_range_scales_yes,\n",
    "                              win_sub_noise_sd_range_scales_no, center_rt,\n",
    "                              beta_scales_yes, beta_scales_no, hp_filter,\n",
    "                              nsim_pow)"
   ]
  }
 ],
 "metadata": {
  "interpreter": {
   "hash": "246587e1fdc6e60fb33961caa15aa8a0ab4d7826c1ab7b280fc279646c76797e"
  },
  "kernelspec": {
   "display_name": "Python 3.8.3 64-bit ('base': conda)",
   "language": "python",
   "name": "python3"
  },
  "language_info": {
   "codemirror_mode": {
    "name": "ipython",
    "version": 3
   },
   "file_extension": ".py",
   "mimetype": "text/x-python",
   "name": "python",
   "nbconvert_exporter": "python",
   "pygments_lexer": "ipython3",
   "version": "3.9.7"
  },
  "orig_nbformat": 4
 },
 "nbformat": 4,
 "nbformat_minor": 2
}
